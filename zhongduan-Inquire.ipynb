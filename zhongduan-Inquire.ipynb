{
 "cells": [
  {
   "cell_type": "code",
   "execution_count": 254,
   "metadata": {
    "collapsed": true
   },
   "outputs": [],
   "source": [
    "#用数据透视表的思路处理\n",
    "\n",
    "# df[\"产品名\"] = df[\"产品名\"].astype(\"category\")\n",
    "# df[\"产品名\"].cat.set_categories([\"青岛奥古特\",\"青岛纯生\",\"青岛1903瓶啤\",\"青岛经典啤酒(500ML)\",\"崂山精品\"],inplace=True)\n",
    "# table = pd.pivot_table(df,index=[\"客户名称\",\"产品名\"],\n",
    "#                        columns=[\"日期\"],\n",
    "#                        values=[\"结算数量\",\"净赠酒数量\",'净出库数量'],\n",
    "#                        aggfunc={\"结算数量\":[np.sum],\"净赠酒数量\":[np.sum],'净出库数量':[np.sum]},\n",
    "#                        fill_value=0)\n",
    "# e = table.query('(客户名称 == [\"船舶丽港--市里\",\"船舶丽港--蒿泊\"]) & (产品名 == [\"青岛500听\",\"青岛纯生\"])')\n",
    "#------------------------------------------------------------------------------------------------\n",
    "#用“groupbu”聚合\n",
    "\n",
    "# df = df.groupby(['销售员', pd.Grouper(key='日期', freq='M')])['净赠酒数量'].sum()\n",
    "# h = DataFrame(df)\n",
    "#------------------------------------------------------------------------------------------------\n",
    "# 从日期里做文章\n",
    "\n",
    "# 将“日期”设置为index\n",
    "# df = df.set_index('产品名')\n",
    "\n",
    "# 把日期列变为index后的日期操作\n",
    "\n",
    "# e['2017-08-19']\n",
    "# e.truncate(after = '2017-8-10')\n",
    "# e.truncate(before = '2017-8-10')\n",
    "\n",
    "# 按月显示，但不统计\n",
    "# e.to_period('M')\n",
    "\n",
    "# 按月统计数据\n",
    "# e.resample('M').sum()\n",
    "#------------------------------------------------------------------------------------------------\n",
    "#输入框体\n",
    "#name = input(\"输入要查询的客户名称：\")\n",
    "#riqi_kaishi = input(\"输入要查询的开始日期：\")\n",
    "#riqi_jieshu = input(\"输入要查询的结束日期：\")\n",
    "\n",
    "#执行查询\n",
    "#a = df.loc[(df['客户名称'] == name)]\n",
    "\n",
    "#b = a[a['日期'] >='2017-08'] #按月查询\n",
    "#b = a.loc[(a['日期'] >= riqi_kaishi) & (a['日期'] <= riqi_jieshu)]#按时间段查询\n",
    "#------------------------------------------------------------------------------------------------\n",
    "#输出Excel\n",
    "#b.to_excel('查询结果.xlsx',index=False)\n",
    "#------------------------------------------------------------------------------------------------\n",
    "#转换为年月日格式\n",
    "#b['日期'] = b['日期'].dt.date\n",
    "#------------------------------------------------------------------------------------------------\n"
   ]
  },
  {
   "cell_type": "code",
   "execution_count": 361,
   "metadata": {
    "collapsed": true
   },
   "outputs": [],
   "source": [
    "import pandas as pd\n",
    "import numpy as np\n",
    "from pandas import DataFrame,Series"
   ]
  },
  {
   "cell_type": "code",
   "execution_count": 362,
   "metadata": {
    "collapsed": true
   },
   "outputs": [],
   "source": [
    "# 读取excel数据\n",
    "df = pd.read_excel('data/database.xlsx')\n",
    "\n",
    "# 选取需要的列，并排序\n",
    "df = df[['日期','销售员','客户名称','客户类别','客户分级','产品名','产品类别','二级类别','结算数量','净赠酒数量','净出库数量']]"
   ]
  },
  {
   "cell_type": "code",
   "execution_count": 367,
   "metadata": {},
   "outputs": [
    {
     "name": "stdout",
     "output_type": "stream",
     "text": [
      "输入要查询的客户名称：中心大酒店\n",
      "输入要查询的开始日期：2017-7-1\n",
      "输入要查询的结束日期：2017-8-15\n"
     ]
    }
   ],
   "source": [
    "#输入框体\n",
    "name = input(\"输入要查询的客户名称：\")\n",
    "riqi_kaishi = input(\"输入要查询的开始日期：\")\n",
    "riqi_jieshu = input(\"输入要查询的结束日期：\")\n",
    "\n",
    "#执行查询\n",
    "a = df.loc[(df['客户名称'] == name)]\n",
    "#b = a[a['日期'] >='2017-08'] #按月查询\n",
    "b = a.loc[(a['日期'] >= riqi_kaishi) & (a['日期'] <= riqi_jieshu)]#按时间段查询\n",
    "\n",
    "#输出Excel\n",
    "b.to_excel('查询结果.xlsx',index=False)"
   ]
  },
  {
   "cell_type": "code",
   "execution_count": null,
   "metadata": {
    "collapsed": true
   },
   "outputs": [],
   "source": []
  }
 ],
 "metadata": {
  "anaconda-cloud": {},
  "kernelspec": {
   "display_name": "Python 3",
   "language": "python",
   "name": "python3"
  },
  "language_info": {
   "codemirror_mode": {
    "name": "ipython",
    "version": 3
   },
   "file_extension": ".py",
   "mimetype": "text/x-python",
   "name": "python",
   "nbconvert_exporter": "python",
   "pygments_lexer": "ipython3",
   "version": "3.6.1"
  }
 },
 "nbformat": 4,
 "nbformat_minor": 1
}
