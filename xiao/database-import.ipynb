{
 "cells": [
  {
   "cell_type": "code",
   "execution_count": 1,
   "metadata": {
    "collapsed": true
   },
   "outputs": [],
   "source": [
    "import pandas as pd"
   ]
  },
  {
   "cell_type": "code",
   "execution_count": 2,
   "metadata": {
    "collapsed": true
   },
   "outputs": [],
   "source": [
    "# 读取excel数据\n",
    "\n",
    "xiaoshou = pd.read_excel('data/17xiaoshou.xls',header=1)\n",
    "tuihuo = pd.read_excel('data/17tuihuo.xls',header=1)\n",
    "zengjiu = pd.read_excel('data/17zengjiu.xls',header=1)"
   ]
  },
  {
   "cell_type": "code",
   "execution_count": 3,
   "metadata": {
    "collapsed": true
   },
   "outputs": [],
   "source": [
    "# 转换日期列\n",
    "\n",
    "xiaoshou['日期'] = pd.to_datetime(xiaoshou['日期'])\n",
    "xiaoshou['日期'] = xiaoshou['日期'].dt.date\n",
    "\n",
    "tuihuo['日期'] = pd.to_datetime(tuihuo['日期'])\n",
    "tuihuo['日期'] = tuihuo['日期'].dt.date\n",
    "\n",
    "zengjiu['日期'] = pd.to_datetime(zengjiu['日期'])\n",
    "zengjiu['日期'] = zengjiu['日期'].dt.date"
   ]
  },
  {
   "cell_type": "code",
   "execution_count": 4,
   "metadata": {
    "collapsed": true
   },
   "outputs": [],
   "source": [
    "# 整理“tuihuo”数据\n",
    "\n",
    "# 重命名列名\n",
    "tuihuo.rename(columns = {'单价': '退货单价', '数量': '退货数量', '金额': '退货金额', '去向': '退货去向'}, inplace=True)\n",
    "\n",
    "# 添加一列：提取非换货的退货数量\n",
    "tuihuo['净退货数量'] = tuihuo['退货数量']*(tuihuo['换货'] != '是')"
   ]
  },
  {
   "cell_type": "code",
   "execution_count": 5,
   "metadata": {
    "collapsed": true
   },
   "outputs": [],
   "source": [
    "# 整理“zengjiu”数据\n",
    "\n",
    "# 重命名列名\n",
    "zengjiu.rename(columns = {'成本': '赠酒成本', '数量': '赠酒数量', '价值': '赠酒价值', '缘由': '赠酒缘由', '客户': '客户名称'}, inplace=True)\n",
    "\n",
    "# 添加一列：提取还预存数\n",
    "zengjiu['还预存数'] = zengjiu['赠酒数量']*(zengjiu['对抵'] == '是')"
   ]
  },
  {
   "cell_type": "code",
   "execution_count": 6,
   "metadata": {
    "collapsed": true
   },
   "outputs": [],
   "source": [
    "# 合并三个表格，生成最终的数据表\n",
    "\n",
    "# 使用concat合并\n",
    "# http://pandas.pydata.org/pandas-docs/stable/merging.html\n",
    "df0 = pd.concat([xiaoshou,tuihuo,zengjiu],ignore_index=True)\n",
    "\n",
    "# 按照日期进行降序排列\n",
    "df1 = df0.sort_values(['日期'],ascending=False)\n",
    "\n",
    "# 将所有的NaN值处理成0\n",
    "df2 = df1.fillna(0)\n",
    "\n",
    "# 添加一列：[销售数量]-[赠酒数量]+[还预存数]-[净退货数量]\n",
    "df2['结算数量'] = df2['销售数量']-df2['赠酒数量']+df2['还预存数']-df2['净退货数量']\n",
    "\n",
    "# 添加一列：[赠酒数量]-[还预存数]\n",
    "df2['净赠酒数量'] = df2['赠酒数量']-df2['还预存数']\n",
    "\n",
    "# 添加一列：[销售数量]-[净退货数量]\n",
    "df2['净出库数量']= df2['销售数量']-df2['净退货数量']\n",
    "\n",
    "# 对列进行最终排序\n",
    "\n",
    "df2=df2[['销售员', '产品名', '产品类别', '二级类别', '客户名称','客户类别', '客户分级', '销售数量', '赠送数量', '异价数量','正常数量', '正常单价', '异价单价', '异价金额', '常价金额','合计金额','备注','日期','赠酒成本','赠酒数量','赠酒价值','对抵','赠酒缘由','还预存数','退货单价','退货数量','退货金额','换货','退货去向','转给人','净退货数量','结算数量','净赠酒数量','净出库数量']]"
   ]
  },
  {
   "cell_type": "code",
   "execution_count": 7,
   "metadata": {
    "collapsed": true
   },
   "outputs": [],
   "source": [
    "df2.to_excel('test.xlsx',index=False)"
   ]
  }
 ],
 "metadata": {
  "anaconda-cloud": {},
  "kernelspec": {
   "display_name": "Python 3",
   "language": "python",
   "name": "python3"
  },
  "language_info": {
   "codemirror_mode": {
    "name": "ipython",
    "version": 3
   },
   "file_extension": ".py",
   "mimetype": "text/x-python",
   "name": "python",
   "nbconvert_exporter": "python",
   "pygments_lexer": "ipython3",
   "version": "3.6.1"
  }
 },
 "nbformat": 4,
 "nbformat_minor": 2
}
